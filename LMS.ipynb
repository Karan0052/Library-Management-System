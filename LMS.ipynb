{
  "nbformat": 4,
  "nbformat_minor": 0,
  "metadata": {
    "colab": {
      "provenance": [],
      "authorship_tag": "ABX9TyOKIDpkS4nAslfWLDIlquQ/",
      "include_colab_link": true
    },
    "kernelspec": {
      "name": "python3",
      "display_name": "Python 3"
    },
    "language_info": {
      "name": "python"
    }
  },
  "cells": [
    {
      "cell_type": "markdown",
      "metadata": {
        "id": "view-in-github",
        "colab_type": "text"
      },
      "source": [
        "<a href=\"https://colab.research.google.com/github/Karan0052/Library-Management-System/blob/main/LMS.ipynb\" target=\"_parent\"><img src=\"https://colab.research.google.com/assets/colab-badge.svg\" alt=\"Open In Colab\"/></a>"
      ]
    },
    {
      "cell_type": "code",
      "execution_count": null,
      "metadata": {
        "colab": {
          "base_uri": "https://localhost:8080/"
        },
        "id": "PyCd3sEMuM1N",
        "outputId": "b1403285-f67c-4fae-ae24-31423df14082"
      },
      "outputs": [
        {
          "output_type": "stream",
          "name": "stdout",
          "text": [
            "Total number of books available are 3 \n",
            " \n",
            "Foundation of Machine Learning\n",
            "DSA\n",
            "Introduction of AI \n"
          ]
        }
      ],
      "source": [
        "class Library:\n",
        "  def __init__(self):\n",
        "    self.noBooks = 0\n",
        "    self.books = []\n",
        "\n",
        "  def addBook(self, book):\n",
        "    self.books.append(book)\n",
        "    self.noBooks = len(self.books)\n",
        "\n",
        "  def showInfo(self):\n",
        "    print(f\"Total number of books available are {self.noBooks} \\n \")\n",
        "    for book in self.books:\n",
        "      print(book)\n",
        "\n",
        "\n",
        "l1 = Library()\n",
        "l1.addBook(\"Foundation of Machine Learning\")\n",
        "l1.addBook(\"DSA\")\n",
        "l1.addBook(\"Introduction of AI \")\n",
        "l1.showInfo()"
      ]
    }
  ]
}